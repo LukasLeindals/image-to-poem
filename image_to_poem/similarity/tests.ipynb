{
 "cells": [
  {
   "cell_type": "code",
   "execution_count": 1,
   "metadata": {},
   "outputs": [
    {
     "name": "stderr",
     "output_type": "stream",
     "text": [
      "c:\\Users\\Bruger\\miniconda3\\envs\\nlp_env\\lib\\site-packages\\tqdm\\auto.py:21: TqdmWarning: IProgress not found. Please update jupyter and ipywidgets. See https://ipywidgets.readthedocs.io/en/stable/user_install.html\n",
      "  from .autonotebook import tqdm as notebook_tqdm\n"
     ]
    }
   ],
   "source": [
    "from similarity_scoring import BertSimilarityModel\n",
    "from transformers import pipeline\n",
    "import json\n",
    "from torch.utils.data import Dataset, random_split, DataLoader, RandomSampler, SequentialSampler\n",
    "import numpy as np"
   ]
  },
  {
   "cell_type": "code",
   "execution_count": 2,
   "metadata": {},
   "outputs": [],
   "source": [
    "cap = \"A blue bird\"\n",
    "poem = \"Their feathers too bright \\ntheir songs too sweet and wild\""
   ]
  },
  {
   "cell_type": "code",
   "execution_count": 3,
   "metadata": {},
   "outputs": [
    {
     "name": "stderr",
     "output_type": "stream",
     "text": [
      "Could not find image processor class in the image processor config or the model config. Loading based on pattern matching with the model's feature extractor configuration.\n",
      "c:\\Users\\Bruger\\miniconda3\\envs\\nlp_env\\lib\\site-packages\\transformers\\models\\vit\\feature_extraction_vit.py:28: FutureWarning: The class ViTFeatureExtractor is deprecated and will be removed in version 5 of Transformers. Please use ViTImageProcessor instead.\n",
      "  warnings.warn(\n"
     ]
    }
   ],
   "source": [
    "sim_model = BertSimilarityModel(no_hidden_layers=1, hidden_dim=25, max_length=25)\n",
    "image2text = pipeline(\"image-to-text\", model=\"nlpconnect/vit-gpt2-image-captioning\")"
   ]
  },
  {
   "cell_type": "markdown",
   "metadata": {},
   "source": [
    "**Input for the BERT Tokenizer**"
   ]
  },
  {
   "cell_type": "code",
   "execution_count": 4,
   "metadata": {},
   "outputs": [
    {
     "name": "stdout",
     "output_type": "stream",
     "text": [
      "input_ids : tensor([[  101,  1037,  2630,  4743,   102,  2037, 12261,  2205,  4408,  2037,\n",
      "          2774,  2205,  4086,  1998,  3748,   102,     0,     0,     0,     0,\n",
      "             0,     0,     0,     0,     0]])\n",
      "token_type_ids : tensor([[0, 0, 0, 0, 0, 1, 1, 1, 1, 1, 1, 1, 1, 1, 1, 1, 0, 0, 0, 0, 0, 0, 0, 0,\n",
      "         0]])\n",
      "attention_mask : tensor([[1, 1, 1, 1, 1, 1, 1, 1, 1, 1, 1, 1, 1, 1, 1, 1, 0, 0, 0, 0, 0, 0, 0, 0,\n",
      "         0]])\n",
      "tokens : ['[CLS]', 'a', 'blue', 'bird', '[SEP]', 'their', 'feathers', 'too', 'bright', 'their', 'songs', 'too', 'sweet', 'and', 'wild', '[SEP]', '[PAD]', '[PAD]', '[PAD]', '[PAD]', '[PAD]', '[PAD]', '[PAD]', '[PAD]', '[PAD]']\n"
     ]
    }
   ],
   "source": [
    "encoding = sim_model.encode_input(cap, poem)\n",
    "for key in encoding.keys():\n",
    "    print(key,\":\",encoding[key])\n",
    "tokens = sim_model.tokenizer.convert_ids_to_tokens(encoding[\"input_ids\"].numpy()[0])\n",
    "print(\"tokens :\",tokens)"
   ]
  },
  {
   "cell_type": "markdown",
   "metadata": {},
   "source": [
    "**Initial similarity**"
   ]
  },
  {
   "cell_type": "code",
   "execution_count": 5,
   "metadata": {},
   "outputs": [
    {
     "name": "stdout",
     "output_type": "stream",
     "text": [
      "The BERT classifier has not been trained yet. Similarity might not be good.\n",
      "tensor([[0.4892]], grad_fn=<SigmoidBackward0>)\n"
     ]
    }
   ],
   "source": [
    "similarity = sim_model.similarity(cap, poem)\n",
    "\n",
    "print(similarity)"
   ]
  },
  {
   "cell_type": "markdown",
   "metadata": {},
   "source": [
    "**A dataset**"
   ]
  },
  {
   "cell_type": "code",
   "execution_count": 6,
   "metadata": {},
   "outputs": [
    {
     "name": "stdout",
     "output_type": "stream",
     "text": [
      "Data length: 8292\n"
     ]
    }
   ],
   "source": [
    "with open(\"../../data/multim_poem.json\") as f:\n",
    "    jsonfile = json.load(f)\n",
    "\n",
    "print(\"Data length:\",len(jsonfile))"
   ]
  },
  {
   "cell_type": "code",
   "execution_count": 7,
   "metadata": {},
   "outputs": [
    {
     "name": "stderr",
     "output_type": "stream",
     "text": [
      "c:\\Users\\Bruger\\miniconda3\\envs\\nlp_env\\lib\\site-packages\\transformers\\generation\\utils.py:1273: UserWarning: Using the model-agnostic default `max_length` (=20) to control the generation length. We recommend setting `max_new_tokens` to control the maximum length of the generation.\n",
      "  warnings.warn(\n",
      "We strongly recommend passing in an `attention_mask` since your input_ids may be padded. See https://huggingface.co/docs/transformers/troubleshooting#incorrect-output-when-padding-tokens-arent-masked.\n",
      "You may ignore this warning if your `pad_token_id` (50256) is identical to the `bos_token_id` (50256), `eos_token_id` (50256), or the `sep_token_id` (None), and your input is not padded.\n"
     ]
    }
   ],
   "source": [
    "N = 20\n",
    "data = [{}]*N\n",
    "i,j = 0,0\n",
    "while j < N and i < len(jsonfile):\n",
    "    # print(\"step :\",i)\n",
    "    try:\n",
    "        desc = image2text(jsonfile[i]['image_url'])\n",
    "    except:\n",
    "        # skip image\n",
    "        i += 1\n",
    "        continue\n",
    "    desc = desc[0]['generated_text']\n",
    "    \n",
    "    data[j] = jsonfile[i]\n",
    "    data[j][\"caption\"] = desc\n",
    "    i += 1 \n",
    "    j += 1 "
   ]
  },
  {
   "cell_type": "code",
   "execution_count": 8,
   "metadata": {},
   "outputs": [],
   "source": [
    "class CaptionPoemDataset(Dataset):\n",
    "    def __init__(self, datadict):\n",
    "        self.data = datadict\n",
    "        \n",
    "        self.N_halfs = len(self.data) // 2 \n",
    "        self.shuffle_idx = np.random.choice(a=self.N_halfs, size=self.N_halfs, replace=False)\n",
    "    \n",
    "    def __len__(self):\n",
    "        return len(self.data)\n",
    "    \n",
    "    def __getitem__(self, idx):\n",
    "        if idx < self.N_halfs:\n",
    "            # match caption idx, with poem shuffle idx \n",
    "            match_idx = self.shuffle_idx[idx]\n",
    "        else:\n",
    "            match_idx = idx\n",
    "        cap_poem = [self.data[idx]['caption'], self.data[match_idx]['poem']]\n",
    "        label = 1 if idx == match_idx else 0 \n",
    "        return cap_poem, label\n",
    "\n",
    "dataset = CaptionPoemDataset(data)"
   ]
  },
  {
   "cell_type": "code",
   "execution_count": 9,
   "metadata": {},
   "outputs": [
    {
     "name": "stdout",
     "output_type": "stream",
     "text": [
      "Number of samples for training = 18\n",
      "Number of samples for validation = 2\n"
     ]
    }
   ],
   "source": [
    "# Split data into train and validation sets\n",
    "SPLIT = 0.9\n",
    "train_size = int(SPLIT*len(dataset))\n",
    "val_size = len(dataset) - train_size\n",
    "\n",
    "train_dataset, val_dataset = random_split(dataset, [train_size, val_size])\n",
    "print(\"Number of samples for training =\", train_size)\n",
    "print(\"Number of samples for validation =\", val_size)"
   ]
  },
  {
   "cell_type": "code",
   "execution_count": 15,
   "metadata": {},
   "outputs": [],
   "source": [
    "BATCH_SIZE = 1\n",
    "train_dataloader = DataLoader(train_dataset,\n",
    "                              sampler=RandomSampler(train_dataset),\n",
    "                              batch_size=BATCH_SIZE)\n",
    "\n",
    "val_dataloader = DataLoader(val_dataset,\n",
    "                            sampler=SequentialSampler(val_dataset),\n",
    "                            batch_size=BATCH_SIZE)"
   ]
  },
  {
   "cell_type": "code",
   "execution_count": 18,
   "metadata": {},
   "outputs": [
    {
     "name": "stdout",
     "output_type": "stream",
     "text": [
      "Iteration: 1 \t Loss: 0.8150061368942261 \t\n",
      "Iteration: 2 \t Loss: 0.8236148953437805 \t\n",
      "Iteration: 3 \t Loss: 0.8108645081520081 \t\n",
      "Iteration: 4 \t Loss: 0.8064420819282532 \t\n",
      "Iteration: 5 \t Loss: 0.787864089012146 \t\n",
      "Iteration: 6 \t Loss: 0.837028443813324 \t\n",
      "Iteration: 7 \t Loss: 0.7788386344909668 \t\n",
      "Iteration: 8 \t Loss: 0.7782682180404663 \t\n",
      "Iteration: 9 \t Loss: 0.7963189482688904 \t\n",
      "Iteration: 10 \t Loss: 0.781745970249176 \t\n"
     ]
    },
    {
     "data": {
      "image/png": "[encoded data removed]",
      "text/plain": [
       "<Figure size 640x480 with 1 Axes>"
      ]
     },
     "metadata": {},
     "output_type": "display_data"
    }
   ],
   "source": [
    "loss, val_loss = sim_model.train_bert_classifier(train_dataloader, val_dataloader, num_epochs=10, val_epoch=1, learning_rate=0.001, verbose=True)"
   ]
  },
  {
   "cell_type": "code",
   "execution_count": 20,
   "metadata": {},
   "outputs": [
    {
     "name": "stdout",
     "output_type": "stream",
     "text": [
      "tensor([[0.4589]], grad_fn=<SigmoidBackward0>)\n"
     ]
    }
   ],
   "source": [
    "similarity = sim_model.similarity(cap, poem)\n",
    "\n",
    "print(similarity)"
   ]
  }
 ],
 "metadata": {
  "kernelspec": {
   "display_name": "nlp_env",
   "language": "python",
   "name": "python3"
  },
  "language_info": {
   "codemirror_mode": {
    "name": "ipython",
    "version": 3
   },
   "file_extension": ".py",
   "mimetype": "text/x-python",
   "name": "python",
   "nbconvert_exporter": "python",
   "pygments_lexer": "ipython3",
   "version": "3.10.13"
  }
 },
 "nbformat": 4,
 "nbformat_minor": 2
}
