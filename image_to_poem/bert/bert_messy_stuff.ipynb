{
 "cells": [
  {
   "cell_type": "code",
   "execution_count": 33,
   "metadata": {},
   "outputs": [],
   "source": [
    "from transformers import BertTokenizer, pipeline\n",
    "from image_to_poem.data.kaggle_poems import KagglePoems\n",
    "from sentence_transformers import SentenceTransformer, util\n",
    "\n",
    "DATA_PATH = '../data/'"
   ]
  },
  {
   "cell_type": "code",
   "execution_count": null,
   "metadata": {},
   "outputs": [],
   "source": [
    "bert = SentenceTransformer('all-MiniLM-L6-v2')"
   ]
  },
  {
   "cell_type": "code",
   "execution_count": null,
   "metadata": {},
   "outputs": [],
   "source": [
    "poems = KagglePoems(\"../../data/kaggle_poems\")"
   ]
  },
  {
   "cell_type": "code",
   "execution_count": 8,
   "metadata": {},
   "outputs": [
    {
     "data": {
      "text/plain": [
       "{'num_poems': 14364,\n",
       " 'num_words': 1611996,\n",
       " 'vocab_size': 122909,\n",
       " 'avg_poem_length': 112.22472848788638}"
      ]
     },
     "execution_count": 8,
     "metadata": {},
     "output_type": "execute_result"
    }
   ],
   "source": [
    "poems.stats"
   ]
  },
  {
   "cell_type": "code",
   "execution_count": 29,
   "metadata": {},
   "outputs": [
    {
     "data": {
      "text/plain": [
       "1024"
      ]
     },
     "execution_count": 29,
     "metadata": {},
     "output_type": "execute_result"
    }
   ],
   "source": [
    "2**10"
   ]
  },
  {
   "cell_type": "code",
   "execution_count": 30,
   "metadata": {},
   "outputs": [
    {
     "data": {
      "text/plain": [
       "['SO many crosses,\\nso little hope, so many\\npuppets, praying for\\nsome thing they dont\\neven believe in.where\\nis your devels, where are\\nyour saints, where is your\\nGOD, when you fill your\\nbody with drink, so many\\ncrosses, so little faith,\\nso many puppets, waiting\\nfor....what?',\n",
       " \"Birth Day....(my friend's birth day)\\nshiddath se tha muntazir voh apne janam din ka,\\nmilega kuch aisa thohfa, hoga farhat e jan o dil ka...\\nbaharon ke vo din  aakhir khushee khushee aaj aahigaya,\\naaya ek lifafa break up likha huva aur tasveer toote huve dil ka....\\nqismat e bashar salamath, dekho vo kaisey khushee manaye,\\nyoum e viladath jis kee banjaye youm e tafreeq dil ka...\",\n",
       " \"In the first dawn she lifted from her bed\\nThe holy silver of her noble head,\\nAnd listened, listened, listened for his tread.\\n'Too soon, too soon !' she murmured, 'Yet I'll keep\\nMy vigil longer\\xad thou, O tender Sleep,\\nArt but the joy of those who wake and weep!\\n'Joy's self hath keen, wide eyes. O flesh of mine,\\nAnd mine own blood and bone, the very wine\\nOf my aged heart, I see thy dear eyes shine!\\n'I hear thy tread; thy light, loved footsteps run\\nAlong the way, eager for that 'Well done !'\\nWe'll weep and kiss to thee, my soldier son!\\n'Blest mother I\\xad he lives! Yet had he died\\nBlest were I still, \\xad I sent him on the tide\\nOf my full heart to save his nation's pride!'\\n'O God, if that I tremble so to-day,\\nBowed with such blessings that I cannot pray\\nBy speech\\xad a mother prays, dear Lord, alway\\n'In some far fibre of her trembling mind!\\nI'll up\\xad I thought I heard a bugle bind\\nIts silver with the silver of the wind. '\"]"
      ]
     },
     "execution_count": 30,
     "metadata": {},
     "output_type": "execute_result"
    }
   ],
   "source": [
    "sents = [poems.poems[i] for i in [8, 1024, 8192]]\n",
    "sents"
   ]
  },
  {
   "cell_type": "code",
   "execution_count": null,
   "metadata": {},
   "outputs": [],
   "source": [
    "image_to_text = pipeline(\"image-to-text\", model=\"nlpconnect/vit-gpt2-image-captioning\")"
   ]
  },
  {
   "cell_type": "code",
   "execution_count": 35,
   "metadata": {},
   "outputs": [
    {
     "ename": "ValueError",
     "evalue": "Incorrect path or url, URLs must start with `http://` or `https://`, and data/poem_images/1.jpg is not a valid path",
     "output_type": "error",
     "traceback": [
      "\u001b[1;31m---------------------------------------------------------------------------\u001b[0m",
      "\u001b[1;31mValueError\u001b[0m                                Traceback (most recent call last)",
      "\u001b[1;32mc:\\Users\\Bruger\\OneDrive - Danmarks Tekniske Universitet\\Skrivebord\\DTU-MatTek\\semester 9 - NU\\CS4120 - Natural Language Processing\\image-to-poem\\image_to_poem\\bert\\bert_messy_stuff.ipynb Cell 8\u001b[0m line \u001b[0;36m1\n\u001b[1;32m----> <a href='vscode-notebook-cell:/c%3A/Users/Bruger/OneDrive%20-%20Danmarks%20Tekniske%20Universitet/Skrivebord/DTU-MatTek/semester%209%20-%20NU/CS4120%20-%20Natural%20Language%20Processing/image-to-poem/image_to_poem/bert/bert_messy_stuff.ipynb#X11sZmlsZQ%3D%3D?line=0'>1</a>\u001b[0m image_to_text(\u001b[39m\"\u001b[39;49m\u001b[39mdata/poem_images/1.jpg\u001b[39;49m\u001b[39m\"\u001b[39;49m)\n",
      "File \u001b[1;32mc:\\Users\\Bruger\\miniconda3\\envs\\nlp_env\\lib\\site-packages\\transformers\\pipelines\\image_to_text.py:106\u001b[0m, in \u001b[0;36mImageToTextPipeline.__call__\u001b[1;34m(self, images, **kwargs)\u001b[0m\n\u001b[0;32m     81\u001b[0m \u001b[39mdef\u001b[39;00m \u001b[39m__call__\u001b[39m(\u001b[39mself\u001b[39m, images: Union[\u001b[39mstr\u001b[39m, List[\u001b[39mstr\u001b[39m], \u001b[39m\"\u001b[39m\u001b[39mImage.Image\u001b[39m\u001b[39m\"\u001b[39m, List[\u001b[39m\"\u001b[39m\u001b[39mImage.Image\u001b[39m\u001b[39m\"\u001b[39m]], \u001b[39m*\u001b[39m\u001b[39m*\u001b[39mkwargs):\n\u001b[0;32m     82\u001b[0m \u001b[39m    \u001b[39m\u001b[39m\"\"\"\u001b[39;00m\n\u001b[0;32m     83\u001b[0m \u001b[39m    Assign labels to the image(s) passed as inputs.\u001b[39;00m\n\u001b[0;32m     84\u001b[0m \n\u001b[1;32m   (...)\u001b[0m\n\u001b[0;32m    104\u001b[0m \u001b[39m        - **generated_text** (`str`) -- The generated text.\u001b[39;00m\n\u001b[0;32m    105\u001b[0m \u001b[39m    \"\"\"\u001b[39;00m\n\u001b[1;32m--> 106\u001b[0m     \u001b[39mreturn\u001b[39;00m \u001b[39msuper\u001b[39m()\u001b[39m.\u001b[39m\u001b[39m__call__\u001b[39m(images, \u001b[39m*\u001b[39m\u001b[39m*\u001b[39mkwargs)\n",
      "File \u001b[1;32mc:\\Users\\Bruger\\miniconda3\\envs\\nlp_env\\lib\\site-packages\\transformers\\pipelines\\base.py:1122\u001b[0m, in \u001b[0;36mPipeline.__call__\u001b[1;34m(self, inputs, num_workers, batch_size, *args, **kwargs)\u001b[0m\n\u001b[0;32m   1114\u001b[0m     \u001b[39mreturn\u001b[39;00m \u001b[39mnext\u001b[39m(\n\u001b[0;32m   1115\u001b[0m         \u001b[39miter\u001b[39m(\n\u001b[0;32m   1116\u001b[0m             \u001b[39mself\u001b[39m\u001b[39m.\u001b[39mget_iterator(\n\u001b[1;32m   (...)\u001b[0m\n\u001b[0;32m   1119\u001b[0m         )\n\u001b[0;32m   1120\u001b[0m     )\n\u001b[0;32m   1121\u001b[0m \u001b[39melse\u001b[39;00m:\n\u001b[1;32m-> 1122\u001b[0m     \u001b[39mreturn\u001b[39;00m \u001b[39mself\u001b[39;49m\u001b[39m.\u001b[39;49mrun_single(inputs, preprocess_params, forward_params, postprocess_params)\n",
      "File \u001b[1;32mc:\\Users\\Bruger\\miniconda3\\envs\\nlp_env\\lib\\site-packages\\transformers\\pipelines\\base.py:1128\u001b[0m, in \u001b[0;36mPipeline.run_single\u001b[1;34m(self, inputs, preprocess_params, forward_params, postprocess_params)\u001b[0m\n\u001b[0;32m   1127\u001b[0m \u001b[39mdef\u001b[39;00m \u001b[39mrun_single\u001b[39m(\u001b[39mself\u001b[39m, inputs, preprocess_params, forward_params, postprocess_params):\n\u001b[1;32m-> 1128\u001b[0m     model_inputs \u001b[39m=\u001b[39m \u001b[39mself\u001b[39m\u001b[39m.\u001b[39mpreprocess(inputs, \u001b[39m*\u001b[39m\u001b[39m*\u001b[39mpreprocess_params)\n\u001b[0;32m   1129\u001b[0m     model_outputs \u001b[39m=\u001b[39m \u001b[39mself\u001b[39m\u001b[39m.\u001b[39mforward(model_inputs, \u001b[39m*\u001b[39m\u001b[39m*\u001b[39mforward_params)\n\u001b[0;32m   1130\u001b[0m     outputs \u001b[39m=\u001b[39m \u001b[39mself\u001b[39m\u001b[39m.\u001b[39mpostprocess(model_outputs, \u001b[39m*\u001b[39m\u001b[39m*\u001b[39mpostprocess_params)\n",
      "File \u001b[1;32mc:\\Users\\Bruger\\miniconda3\\envs\\nlp_env\\lib\\site-packages\\transformers\\pipelines\\image_to_text.py:109\u001b[0m, in \u001b[0;36mImageToTextPipeline.preprocess\u001b[1;34m(self, image, prompt)\u001b[0m\n\u001b[0;32m    108\u001b[0m \u001b[39mdef\u001b[39;00m \u001b[39mpreprocess\u001b[39m(\u001b[39mself\u001b[39m, image, prompt\u001b[39m=\u001b[39m\u001b[39mNone\u001b[39;00m):\n\u001b[1;32m--> 109\u001b[0m     image \u001b[39m=\u001b[39m load_image(image)\n\u001b[0;32m    111\u001b[0m     \u001b[39mif\u001b[39;00m prompt \u001b[39mis\u001b[39;00m \u001b[39mnot\u001b[39;00m \u001b[39mNone\u001b[39;00m:\n\u001b[0;32m    112\u001b[0m         \u001b[39mif\u001b[39;00m \u001b[39mnot\u001b[39;00m \u001b[39misinstance\u001b[39m(prompt, \u001b[39mstr\u001b[39m):\n",
      "File \u001b[1;32mc:\\Users\\Bruger\\miniconda3\\envs\\nlp_env\\lib\\site-packages\\transformers\\image_utils.py:276\u001b[0m, in \u001b[0;36mload_image\u001b[1;34m(image)\u001b[0m\n\u001b[0;32m    274\u001b[0m         image \u001b[39m=\u001b[39m PIL\u001b[39m.\u001b[39mImage\u001b[39m.\u001b[39mopen(image)\n\u001b[0;32m    275\u001b[0m     \u001b[39melse\u001b[39;00m:\n\u001b[1;32m--> 276\u001b[0m         \u001b[39mraise\u001b[39;00m \u001b[39mValueError\u001b[39;00m(\n\u001b[0;32m    277\u001b[0m             \u001b[39mf\u001b[39m\u001b[39m\"\u001b[39m\u001b[39mIncorrect path or url, URLs must start with `http://` or `https://`, and \u001b[39m\u001b[39m{\u001b[39;00mimage\u001b[39m}\u001b[39;00m\u001b[39m is not a valid path\u001b[39m\u001b[39m\"\u001b[39m\n\u001b[0;32m    278\u001b[0m         )\n\u001b[0;32m    279\u001b[0m \u001b[39melif\u001b[39;00m \u001b[39misinstance\u001b[39m(image, PIL\u001b[39m.\u001b[39mImage\u001b[39m.\u001b[39mImage):\n\u001b[0;32m    280\u001b[0m     image \u001b[39m=\u001b[39m image\n",
      "\u001b[1;31mValueError\u001b[0m: Incorrect path or url, URLs must start with `http://` or `https://`, and data/poem_images/1.jpg is not a valid path"
     ]
    }
   ],
   "source": [
    "image_to_text(\"data/poem_images/1.jpg\")"
   ]
  }
 ],
 "metadata": {
  "kernelspec": {
   "display_name": "Python 3",
   "language": "python",
   "name": "python3"
  },
  "language_info": {
   "codemirror_mode": {
    "name": "ipython",
    "version": 3
   },
   "file_extension": ".py",
   "mimetype": "text/x-python",
   "name": "python",
   "nbconvert_exporter": "python",
   "pygments_lexer": "ipython3",
   "version": "3.10.13"
  }
 },
 "nbformat": 4,
 "nbformat_minor": 2
}
