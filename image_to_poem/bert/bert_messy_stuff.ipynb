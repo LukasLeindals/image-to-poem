{
 "cells": [
  {
   "cell_type": "code",
   "execution_count": 37,
   "metadata": {},
   "outputs": [],
   "source": [
    "from transformers import BertTokenizer, pipeline\n",
    "from image_to_poem.data.kaggle_poems import KagglePoems\n",
    "from sentence_transformers import SentenceTransformer, util\n",
    "from PIL import Image\n",
    "\n",
    "DATA_PATH = '../../data/'"
   ]
  },
  {
   "cell_type": "code",
   "execution_count": null,
   "metadata": {},
   "outputs": [],
   "source": [
    "bert = SentenceTransformer('all-MiniLM-L6-v2')\n",
    "clip = SentenceTransformer('clip-ViT-B-32')\n",
    "poems = KagglePoems(DATA_PATH + \"kaggle_poems\")\n",
    "img2text = pipeline(\"image-to-text\", model=\"nlpconnect/vit-gpt2-image-captioning\")"
   ]
  },
  {
   "cell_type": "code",
   "execution_count": 38,
   "metadata": {},
   "outputs": [
    {
     "name": "stdout",
     "output_type": "stream",
     "text": [
      "{'num_poems': 14364, 'num_words': 1611996, 'vocab_size': 122909, 'avg_poem_length': 112.22472848788638} \n",
      "\n",
      "selecting three poems:\n",
      "\n",
      "SO many crosses,\n",
      "so little hope, so many\n",
      "puppets, praying for\n",
      "some thing they dont\n",
      "even believe in.where\n",
      "is your devels, where are\n",
      "your saints, where is your\n",
      "GOD, when you fill your\n",
      "body with drink, so many\n",
      "crosses, so little faith,\n",
      "so many puppets, waiting\n",
      "for....what? \n",
      "\n",
      "What a name called?\n",
      "Football a game called,\n",
      "To known arena called stadium,\n",
      "Played eleven to eleven side to side each,\n",
      "Formations of it kinds,\n",
      "Aims of a two goal post net,\n",
      "Aims of a trophy,\n",
      "Aims of winning,\n",
      "In a color Jersey of its kinds,\n",
      "In a color booths of it kinds,\n",
      "Side to side balls picking sons round,\n",
      "Spectators sat rounding pitch watching,\n",
      "Centered with a nominated referee officiating,\n",
      "Lined with a two lines men flagged,\n",
      "Officials of substitutions in questions,\n",
      "Pronounced by named commentators,\n",
      "Red and yellow cards rules in question,\n",
      "Supported keys of volunteers,\n",
      "Supported with all sorts of supporters,\n",
      "Declared a stadium manager jobs,\n",
      "Declared a team manager jobs,\n",
      "Host  the nations, Host the world,\n",
      "At  moment of a country designated!\n",
      "At  moment of a country authorized!\n",
      "Called for all practitioners....\n",
      "Photographers, Cinematography, Press, Medias, Adverts, Sponsors, critics, etc. centred.\n",
      "What a name called?\n",
      "Football! football! ! football! ! !\n",
      "A rounded leather circled!\n",
      "Circled in its color of its choices,\n",
      "Declared fifa authorities,\n",
      "Declared statistical over all game,\n",
      "Respect covered face to face,\n",
      "Stretchers officials in uniforms of its officials medications,\n",
      "Football a game called,\n",
      "With boots of its kinds worn,\n",
      "Saddled a whole lot supporters,\n",
      "Saddled a whole lot analysts,\n",
      "Presumption for a nation's glory,\n",
      "Preemptive individuals' desirably for survival,\n",
      "Football a game called,\n",
      "Called to the passionate in spirit,\n",
      "Football a game called,\n",
      "Embrace understanding to unnamed,\n",
      "Embrace love to unloved,\n",
      "Embrace unity to diversities,\n",
      "Embrace creativity to un-creativity,\n",
      "Football a game called,\n",
      "Adore a nature,\n",
      "Football a game called,\n",
      "Called to a glorious home,\n",
      "Football a game called,\n",
      "A rounded leather circled!\n",
      "With boots of its played,\n",
      "With jersey of its kinds,\n",
      "With choices of many kinds,\n",
      "Football a game called. \n",
      "\n",
      "In the first dawn she lifted from her bed\n",
      "The holy silver of her noble head,\n",
      "And listened, listened, listened for his tread.\n",
      "'Too soon, too soon !' she murmured, 'Yet I'll keep\n",
      "My vigil longer­ thou, O tender Sleep,\n",
      "Art but the joy of those who wake and weep!\n",
      "'Joy's self hath keen, wide eyes. O flesh of mine,\n",
      "And mine own blood and bone, the very wine\n",
      "Of my aged heart, I see thy dear eyes shine!\n",
      "'I hear thy tread; thy light, loved footsteps run\n",
      "Along the way, eager for that 'Well done !'\n",
      "We'll weep and kiss to thee, my soldier son!\n",
      "'Blest mother I­ he lives! Yet had he died\n",
      "Blest were I still, ­ I sent him on the tide\n",
      "Of my full heart to save his nation's pride!'\n",
      "'O God, if that I tremble so to-day,\n",
      "Bowed with such blessings that I cannot pray\n",
      "By speech­ a mother prays, dear Lord, alway\n",
      "'In some far fibre of her trembling mind!\n",
      "I'll up­ I thought I heard a bugle bind\n",
      "Its silver with the silver of the wind. ' \n",
      "\n"
     ]
    }
   ],
   "source": [
    "print(poems.stats,\"\\n\")\n",
    "\n",
    "# get poems \n",
    "print(\"selecting three poems:\\n\")\n",
    "sents = [poems.poems[i] for i in [8, 4000, 8192]]\n",
    "for s in sents:\n",
    "    print(s, \"\\n\")"
   ]
  },
  {
   "cell_type": "code",
   "execution_count": 39,
   "metadata": {},
   "outputs": [
    {
     "name": "stderr",
     "output_type": "stream",
     "text": [
      "c:\\Users\\Bruger\\miniconda3\\envs\\nlp_env\\lib\\site-packages\\transformers\\generation\\utils.py:1369: UserWarning: Using `max_length`'s default (20) to control the generation length. This behaviour is deprecated and will be removed from the config in v5 of Transformers -- we recommend using `max_new_tokens` to control the maximum length of the generation.\n",
      "  warnings.warn(\n"
     ]
    },
    {
     "name": "stdout",
     "output_type": "stream",
     "text": [
      "\n",
      "Generated text description:\n",
      " a row of boats sitting on a dock \n"
     ]
    }
   ],
   "source": [
    "# get image description \n",
    "desc = img2text(DATA_PATH + \"poem_images/3.jpg\")\n",
    "# desc = img2text(\"https://images.theconversation.com/files/551467/original/file-20231002-21-7s6vkv.jpg?ixlib=rb-1.1.0&rect=11%2C23%2C3982%2C2790&q=20&auto=format&w=320&fit=clip&dpr=2&usm=12&cs=strip\")\n",
    "desc = desc[0][\"generated_text\"]\n",
    "print(\"\\nGenerated text description:\\n\", desc)"
   ]
  },
  {
   "cell_type": "code",
   "execution_count": 52,
   "metadata": {},
   "outputs": [
    {
     "name": "stdout",
     "output_type": "stream",
     "text": [
      "poem 0 has similarity: 0.12742985785007477\n",
      "poem 1 has similarity: 0.019252631813287735\n",
      "poem 2 has similarity: 0.05729397386312485\n"
     ]
    }
   ],
   "source": [
    "embeddings = bert.encode(sents)\n",
    "desc_emb = bert.encode(desc)\n",
    "\n",
    "similarities = util.cos_sim(embeddings, desc_emb)\n",
    "\n",
    "for i in range(len(similarities)):\n",
    "    print(f\"poem {i} has similarity: {similarities[i][0]}\")\n",
    "    "
   ]
  },
  {
   "cell_type": "code",
   "execution_count": 53,
   "metadata": {},
   "outputs": [],
   "source": [
    "import numpy as np"
   ]
  },
  {
   "cell_type": "code",
   "execution_count": 65,
   "metadata": {},
   "outputs": [
    {
     "data": {
      "text/plain": [
       "array([0.12742986, 0.01925263, 0.05729397], dtype=float32)"
      ]
     },
     "execution_count": 65,
     "metadata": {},
     "output_type": "execute_result"
    }
   ],
   "source": [
    "sims = np.array(similarities).flatten()\n",
    "sims"
   ]
  },
  {
   "cell_type": "code",
   "execution_count": 64,
   "metadata": {},
   "outputs": [
    {
     "data": {
      "text/plain": [
       "0"
      ]
     },
     "execution_count": 64,
     "metadata": {},
     "output_type": "execute_result"
    }
   ],
   "source": [
    "np.argmax(sims)"
   ]
  }
 ],
 "metadata": {
  "kernelspec": {
   "display_name": "Python 3",
   "language": "python",
   "name": "python3"
  },
  "language_info": {
   "codemirror_mode": {
    "name": "ipython",
    "version": 3
   },
   "file_extension": ".py",
   "mimetype": "text/x-python",
   "name": "python",
   "nbconvert_exporter": "python",
   "pygments_lexer": "ipython3",
   "version": "3.10.13"
  }
 },
 "nbformat": 4,
 "nbformat_minor": 2
}
