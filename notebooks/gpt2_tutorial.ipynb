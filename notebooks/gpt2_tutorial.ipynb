{
 "cells": [
  {
   "cell_type": "markdown",
   "metadata": {},
   "source": [
    "# GPT-2 finetuning tutorial \n",
    "https://colab.research.google.com/drive/1_8UUlOjd_KnSIxlSdsF72MeSK3lprnbo?usp=sharing#scrollTo=7lsVGXn0XGfl "
   ]
  },
  {
   "cell_type": "code",
   "execution_count": 1,
   "metadata": {},
   "outputs": [
    {
     "name": "stdout",
     "output_type": "stream",
     "text": [
      "Using cuda for training\n"
     ]
    }
   ],
   "source": [
    "import pandas as pd\n",
    "import numpy as np\n",
    "import seaborn as sns\n",
    "import matplotlib.pyplot as plt\n",
    "# % matplotlib inline\n",
    "\n",
    "import random\n",
    "import json\n",
    "import time\n",
    "import datetime\n",
    "import os\n",
    "\n",
    "from transformers import GPT2Tokenizer, GPT2LMHeadModel, GPT2Config, AdamW, get_linear_schedule_with_warmup\n",
    "\n",
    "import torch\n",
    "torch.manual_seed(64)\n",
    "from torch.utils.data import Dataset, random_split, DataLoader, RandomSampler, SequentialSampler\n",
    "device = torch.device(\"cuda\" if torch.cuda.is_available() else \"cpu\")\n",
    "print(f\"Using {device} for training\")"
   ]
  },
  {
   "cell_type": "markdown",
   "metadata": {},
   "source": [
    "## Data prep"
   ]
  },
  {
   "cell_type": "code",
   "execution_count": 2,
   "metadata": {},
   "outputs": [],
   "source": [
    "class PoemDataset(Dataset):\n",
    "  def __init__(self, poems, tokenizer, max_length=768, gpt2_type=\"gpt2\", max_poems=None):\n",
    "    self.tokenizer = tokenizer\n",
    "    self.input_ids = []\n",
    "    self.attn_masks = []\n",
    "\n",
    "    for poem in poems if max_poems is None else poems[:min(max_poems, len(poems))]:\n",
    "\n",
    "      encodings_dict = tokenizer(\"<|startoftext|>\"+poem+\"<|endoftext|>\",\n",
    "                                 truncation=True,\n",
    "                                 max_length=max_length,\n",
    "                                 padding=\"max_length\")\n",
    "      \n",
    "      self.input_ids.append(torch.tensor(encodings_dict[\"input_ids\"]))\n",
    "      self.attn_masks.append(torch.tensor(encodings_dict[\"attention_mask\"]))\n",
    "\n",
    "  def __len__(self):\n",
    "    return len(self.input_ids)\n",
    "\n",
    "  def __getitem__(self, idx):\n",
    "    return self.input_ids[idx], self.attn_masks[idx]"
   ]
  },
  {
   "cell_type": "code",
   "execution_count": 3,
   "metadata": {},
   "outputs": [],
   "source": [
    "# Loading GPT2 Tokenizer\n",
    "tokenizer = GPT2Tokenizer.from_pretrained('gpt2', \n",
    "                                          bos_token='<|startoftext|>', \n",
    "                                          eos_token='<|endoftext|>', \n",
    "                                          pad_token='<|pad|>')"
   ]
  },
  {
   "cell_type": "code",
   "execution_count": 4,
   "metadata": {},
   "outputs": [
    {
     "name": "stderr",
     "output_type": "stream",
     "text": [
      "Reading poems:  15%|█▍        | 2096/14331 [00:00<00:01, 6531.88it/s]"
     ]
    },
    {
     "name": "stdout",
     "output_type": "stream",
     "text": [
      "Could not read ../data/kaggle_poems/topics/chicago/ChicagoPoemsOfComptonImNotTheLeastBitAfraidToTheThoughtOfChicagoIDrinkCoolAideOrLemonadeCosaNostraByThemICouldNeverDieTheFbiLikeStandingNextToAFlyPoembyJoshuaAaronGuillory.txt\n",
      "Could not read ../data/kaggle_poems/topics/chicago/ChicagoPoemsOfComptonImNotTheLeastBitAfraidToTheThoughtOfChicagoIDrinkKoolAidOrLemonadeCosaNostraByThemICouldNeverDieTheFbiLikeStandingNextToAFlyPoembyJoshuaAaronGuillory.txt\n"
     ]
    },
    {
     "name": "stderr",
     "output_type": "stream",
     "text": [
      "Reading poems:  76%|███████▋  | 10961/14331 [00:01<00:00, 6673.43it/s]"
     ]
    },
    {
     "name": "stdout",
     "output_type": "stream",
     "text": [
      "Could not read ../data/kaggle_poems/topics/racism/RacismPoemsTranslationOfRacismIsAroundMeEverywhereByFrancisDugganαªåαª«αª░αªÜαª░αª¬αª╢αª¢αº£αºƒαªåαª¢αª£αªñαª¼αªªαª¼αª╖αª«αª▓αª½αª░αª¿αª╕αª╕αªíαªùαª¿PoembyAlamSayed.txt\n"
     ]
    },
    {
     "name": "stderr",
     "output_type": "stream",
     "text": [
      "Reading poems: 100%|██████████| 14331/14331 [00:02<00:00, 6052.04it/s]\n"
     ]
    }
   ],
   "source": [
    "from image_to_poem.data.kaggle_poems import KagglePoems\n",
    "data = KagglePoems(\"../data/kaggle_poems/\")"
   ]
  },
  {
   "cell_type": "code",
   "execution_count": 5,
   "metadata": {},
   "outputs": [
    {
     "name": "stdout",
     "output_type": "stream",
     "text": [
      "Number of samples for training = 90\n",
      "Number of samples for validation = 10\n"
     ]
    }
   ],
   "source": [
    "dataset = PoemDataset(data.poems, tokenizer, max_length=100, max_poems=100)\n",
    "\n",
    "# Split data into train and validation sets\n",
    "train_size = int(0.9*len(dataset))\n",
    "val_size = len(dataset) - train_size\n",
    "\n",
    "train_dataset, val_dataset = random_split(dataset, [train_size, val_size])\n",
    "print(\"Number of samples for training =\", train_size)\n",
    "print(\"Number of samples for validation =\", val_size)"
   ]
  },
  {
   "cell_type": "code",
   "execution_count": 6,
   "metadata": {},
   "outputs": [
    {
     "data": {
      "text/plain": [
       "(tensor([50257,    40,   447,   247,   303, 16399,    25,   290,   477,   262,\n",
       "          5238,   314,  2982,   198, 35653,  2647, 34976,  7972,    11,   290,\n",
       "          4269,    11,   290,  6512,    13,   198,  3152,  6205,   508, 25889,\n",
       "           422, 12788,   284, 12788,   198,    40,   447,   247,   303, 16399,\n",
       "            25,   616,  2612,   318, 14720,   991,    13,   198,    40,   447,\n",
       "           247,   303,  3114,    25,   262,  3329,   995,   373,  4077,    26,\n",
       "           198, 41267, 42251,   290, 18028,   286,  3240,   314,   447,   247,\n",
       "           303,  1775,    26,   198,  1870,  5788,    11,  7825,   278,   832,\n",
       "          8539,  1203,  1755,    13,   198,    40,   447,   247,   303,  3114,\n",
       "            25,   290,   616,  5848,  1865,   890,    82,   329,  1657,    13]),\n",
       " tensor([1, 1, 1, 1, 1, 1, 1, 1, 1, 1, 1, 1, 1, 1, 1, 1, 1, 1, 1, 1, 1, 1, 1, 1,\n",
       "         1, 1, 1, 1, 1, 1, 1, 1, 1, 1, 1, 1, 1, 1, 1, 1, 1, 1, 1, 1, 1, 1, 1, 1,\n",
       "         1, 1, 1, 1, 1, 1, 1, 1, 1, 1, 1, 1, 1, 1, 1, 1, 1, 1, 1, 1, 1, 1, 1, 1,\n",
       "         1, 1, 1, 1, 1, 1, 1, 1, 1, 1, 1, 1, 1, 1, 1, 1, 1, 1, 1, 1, 1, 1, 1, 1,\n",
       "         1, 1, 1, 1]))"
      ]
     },
     "execution_count": 6,
     "metadata": {},
     "output_type": "execute_result"
    }
   ],
   "source": [
    "train_dataset[0]"
   ]
  },
  {
   "cell_type": "code",
   "execution_count": 7,
   "metadata": {},
   "outputs": [],
   "source": [
    "train_dataloader = DataLoader(train_dataset,\n",
    "                              sampler=RandomSampler(train_dataset),\n",
    "                              batch_size=8)\n",
    "\n",
    "val_dataloader = DataLoader(val_dataset,\n",
    "                            sampler=SequentialSampler(val_dataset),\n",
    "                            batch_size=8)"
   ]
  },
  {
   "cell_type": "markdown",
   "metadata": {},
   "source": [
    "## Finetune GPT2 Language Model"
   ]
  },
  {
   "cell_type": "markdown",
   "metadata": {},
   "source": [
    "### Importing Pre-Trained GPT2 Model"
   ]
  },
  {
   "cell_type": "code",
   "execution_count": 8,
   "metadata": {},
   "outputs": [],
   "source": [
    "# Load model configuration\n",
    "config = GPT2Config.from_pretrained(\"gpt2\")\n",
    "\n",
    "# Create model instance and set embedding length\n",
    "model = GPT2LMHeadModel.from_pretrained(\"gpt2\", config=config)\n",
    "model.resize_token_embeddings(len(tokenizer))\n",
    "\n",
    "# Running the model on GPU\n",
    "model = model.to(device)"
   ]
  },
  {
   "cell_type": "code",
   "execution_count": 9,
   "metadata": {},
   "outputs": [],
   "source": [
    "# Setting seeds to enable reproducible runs\n",
    "seed_val = 42\n",
    "\n",
    "random.seed(seed_val)\n",
    "np.random.seed(seed_val)\n",
    "torch.manual_seed(seed_val)\n",
    "torch.cuda.manual_seed_all(seed_val)"
   ]
  },
  {
   "cell_type": "markdown",
   "metadata": {},
   "source": [
    "### Scheduling Optimizer"
   ]
  },
  {
   "cell_type": "code",
   "execution_count": 10,
   "metadata": {},
   "outputs": [],
   "source": [
    "epochs = 4\n",
    "warmup_steps = 1e2\n",
    "sample_every = 100"
   ]
  },
  {
   "cell_type": "code",
   "execution_count": 11,
   "metadata": {},
   "outputs": [
    {
     "name": "stdout",
     "output_type": "stream",
     "text": [
      "12\n",
      "90\n"
     ]
    }
   ],
   "source": [
    "print(len(train_dataloader))\n",
    "print(len(train_dataset))"
   ]
  },
  {
   "cell_type": "code",
   "execution_count": 12,
   "metadata": {},
   "outputs": [
    {
     "name": "stderr",
     "output_type": "stream",
     "text": [
      "c:\\Users\\lukas\\miniconda3\\envs\\nlp_venv\\lib\\site-packages\\transformers\\optimization.py:411: FutureWarning: This implementation of AdamW is deprecated and will be removed in a future version. Use the PyTorch implementation torch.optim.AdamW instead, or set `no_deprecation_warning=True` to disable this warning\n",
      "  warnings.warn(\n"
     ]
    }
   ],
   "source": [
    "# Using AdamW optimizer with default parameters\n",
    "optimizer = AdamW(model.parameters(), lr=5e-4, eps=1e-8)\n",
    "\n",
    "# Toatl training steps is the number of data points times the number of epochs\n",
    "total_training_steps = len(train_dataloader)*epochs\n",
    "\n",
    "# Setting a variable learning rate using scheduler\n",
    "scheduler = get_linear_schedule_with_warmup(optimizer,\n",
    "                                            num_warmup_steps=warmup_steps,\n",
    "                                            num_training_steps=total_training_steps)"
   ]
  },
  {
   "cell_type": "markdown",
   "metadata": {},
   "source": [
    "### Training"
   ]
  },
  {
   "cell_type": "code",
   "execution_count": 13,
   "metadata": {},
   "outputs": [],
   "source": [
    "def format_time(elapsed):\n",
    "  return str(datetime.timedelta(seconds=int(round(elapsed))))"
   ]
  },
  {
   "cell_type": "code",
   "execution_count": 14,
   "metadata": {},
   "outputs": [
    {
     "name": "stdout",
     "output_type": "stream",
     "text": [
      "Beginning epoch 1 of 4\n",
      "Average Training Loss: 47.53901878992716. Epoch time: 0:00:22\n",
      "\n",
      "Validation loss: 21.39034652709961. Validation Time: 0:00:01\n",
      "\n",
      "------------------------------\n",
      "Beginning epoch 2 of 4\n",
      "Average Training Loss: 6.725579857826233. Epoch time: 0:00:21\n",
      "\n",
      "Validation loss: 4.6801183223724365. Validation Time: 0:00:01\n",
      "\n",
      "------------------------------\n",
      "Beginning epoch 3 of 4\n",
      "Average Training Loss: 5.413493951161702. Epoch time: 0:00:21\n",
      "\n",
      "Validation loss: 3.884183168411255. Validation Time: 0:00:01\n",
      "\n",
      "------------------------------\n",
      "Beginning epoch 4 of 4\n",
      "Average Training Loss: 4.5850134293238325. Epoch time: 0:00:21\n",
      "\n",
      "Validation loss: 3.448719024658203. Validation Time: 0:00:01\n",
      "\n",
      "------------------------------\n",
      "Total training took 0:01:30\n"
     ]
    }
   ],
   "source": [
    "total_t0 = time.time()\n",
    "\n",
    "training_stats = []\n",
    "\n",
    "model = model.to(device)\n",
    "\n",
    "for epoch_i in range(epochs):\n",
    "  print(f'Beginning epoch {epoch_i+1} of {epochs}')\n",
    "\n",
    "  t0 = time.time()\n",
    "  total_train_loss = 0\n",
    "  model.train()\n",
    "\n",
    "  # Labels are shifted by 1 timestep\n",
    "  for step, batch in enumerate(train_dataloader):\n",
    "    b_input_ids = batch[0].to(device)\n",
    "    b_labels = batch[0].to(device)\n",
    "    b_masks = batch[1].to(device)\n",
    "\n",
    "    model.zero_grad()\n",
    "\n",
    "    outputs = model(b_input_ids,\n",
    "                    labels=b_labels,\n",
    "                    attention_mask=b_masks)\n",
    "    \n",
    "    loss = outputs[0]\n",
    "\n",
    "    batch_loss = loss.item()\n",
    "    total_train_loss += batch_loss\n",
    "\n",
    "    # Sampling every x steps\n",
    "    if step != 0 and step % sample_every == 0:\n",
    "\n",
    "      elapsed = format_time(time.time()-t0)\n",
    "      print(f'Batch {step} of {len(train_dataloader)}. Loss: {batch_loss}. Time: {elapsed}')\n",
    "\n",
    "      model.eval()\n",
    "\n",
    "      sample_outputs = model.generate(\n",
    "                                    bos_token_id=random.randint(1,30000),\n",
    "                                    do_sample=True,   \n",
    "                                    top_k=50, \n",
    "                                    max_length = 200,\n",
    "                                    top_p=0.95, \n",
    "                                    num_return_sequences=1\n",
    "                                )\n",
    "      for i, sample_output in enumerate(sample_outputs):\n",
    "        print(f'Example ouput: {tokenizer.decode(sample_output, skip_special_tokens=True)}')\n",
    "      print()\n",
    "\n",
    "      model.train()\n",
    "\n",
    "    loss.backward()\n",
    "    optimizer.step()\n",
    "    scheduler.step()\n",
    "\n",
    "  avg_train_loss = total_train_loss / len(train_dataloader)\n",
    "  training_time = format_time(time.time()-t0)\n",
    "  print(f'Average Training Loss: {avg_train_loss}. Epoch time: {training_time}')\n",
    "  print()\n",
    "\n",
    "  t0 = time.time()\n",
    "  model.eval()\n",
    "\n",
    "  total_eval_loss = 0\n",
    "  nb_eval_steps = 0\n",
    "\n",
    "  for batch in val_dataloader:\n",
    "    b_input_ids = batch[0].to(device)\n",
    "    b_labels = batch[0].to(device)\n",
    "    b_masks = batch[1].to(device)\n",
    "        \n",
    "    with torch.no_grad():        \n",
    "\n",
    "        outputs  = model(b_input_ids,  \n",
    "                         attention_mask = b_masks,\n",
    "                         labels=b_labels)\n",
    "          \n",
    "        loss = outputs[0]  \n",
    "            \n",
    "    batch_loss = loss.item()\n",
    "    total_eval_loss += batch_loss   \n",
    "\n",
    "  avg_val_loss = total_eval_loss / len(val_dataloader)  \n",
    "  val_time = format_time(time.time() - t0)    \n",
    "  print(f'Validation loss: {avg_val_loss}. Validation Time: {val_time}')\n",
    "  print()\n",
    "\n",
    "  # Record all statistics from this epoch.\n",
    "  training_stats.append(\n",
    "      {\n",
    "          'epoch': epoch_i + 1,\n",
    "          'Training Loss': avg_train_loss,\n",
    "          'Valid. Loss': avg_val_loss,\n",
    "          'Training Time': training_time,\n",
    "          'Validation Time': val_time\n",
    "      }\n",
    "  )\n",
    "  print(\"------------------------------\")\n",
    "\n",
    "print(f'Total training took {format_time(time.time()-total_t0)}')"
   ]
  },
  {
   "cell_type": "markdown",
   "metadata": {},
   "source": [
    "### Visualizations"
   ]
  },
  {
   "cell_type": "code",
   "execution_count": 17,
   "metadata": {},
   "outputs": [
    {
     "data": {
      "image/png": "[encoded data removed]",
      "text/plain": [
       "<Figure size 1200x600 with 1 Axes>"
      ]
     },
     "metadata": {},
     "output_type": "display_data"
    }
   ],
   "source": [
    "# pd.set_option('precision', 2)\n",
    "df_stats = pd.DataFrame(data=training_stats)\n",
    "df_stats = df_stats.set_index('epoch')\n",
    "\n",
    "# Use plot styling from seaborn.\n",
    "sns.set(style='darkgrid')\n",
    "\n",
    "# Increase the plot size and font size.\n",
    "sns.set(font_scale=1.5)\n",
    "plt.rcParams[\"figure.figsize\"] = (12,6)\n",
    "\n",
    "# Plot the learning curve.\n",
    "plt.plot(df_stats['Training Loss'], 'b-o', label=\"Training\")\n",
    "plt.plot(df_stats['Valid. Loss'], 'g-o', label=\"Validation\")\n",
    "\n",
    "# Label the plot.\n",
    "plt.title(\"Training & Validation Loss\")\n",
    "plt.xlabel(\"Epoch\")\n",
    "plt.ylabel(\"Loss\")\n",
    "plt.legend()\n",
    "plt.xticks([1, 2, 3, 4])\n",
    "\n",
    "plt.show()"
   ]
  },
  {
   "cell_type": "markdown",
   "metadata": {},
   "source": [
    "### Generating Poems"
   ]
  },
  {
   "cell_type": "code",
   "execution_count": 18,
   "metadata": {},
   "outputs": [
    {
     "name": "stderr",
     "output_type": "stream",
     "text": [
      "The attention mask and the pad token id were not set. As a consequence, you may observe unexpected behavior. Please pass your input's `attention_mask` to obtain reliable results.\n",
      "Setting `pad_token_id` to `eos_token_id`:50256 for open-end generation.\n"
     ]
    },
    {
     "name": "stdout",
     "output_type": "stream",
     "text": [
      "0: Sis in your soul,I've been so beautiful,The shadow of the night that sleeps for me;\n",
      "Don't believe in those days of the day\n",
      "The shadow of my soul,\n",
      "So many years with I can't drink?\n",
      "\n",
      "But you've gone out all the tears\n",
      "But the tears alone with the moon\n",
      "Who sits on the bed of the morning and a morning in your heart;\n",
      "From the wind.\n",
      "Then they come only because I know it so they can\n",
      "It was a night by night\n",
      "My name was all of God to do that she will,\n",
      "And the sun's wrath was,\n",
      "\n",
      "And I may no need to find\n",
      "\n",
      " I can leave all I know\n",
      "I am no bed and my body,\n",
      "And I will be gone\n",
      "\n",
      "I am not alone,\n",
      "And I cry\n",
      "And alone alone\n",
      "And I never will\n",
      "\n",
      "And I pray so much,And I've gone out,\n",
      "And I know how to see\n",
      "And I know I speak\n",
      "And the path of peace\n",
      "The one who has left us,\n",
      "So I know, I do nothing\n",
      "And I speak;\n",
      "You don't hide it,\n",
      "In the morning all my life,\n",
      "You don't know you know\n",
      "I am in the dark,\n",
      "\n",
      " and I'm alone.\n",
      "You don't know I don't have,\n",
      "And I want to know\n",
      "\n",
      " I am alone in the dark\n",
      "\n",
      "Who were you\n",
      "\n",
      "\n",
      "1: Thereiswith a way out of the dark thoughts\n",
      "That I am not alone, a man sleeps on nothing I will be a soulbound only\n",
      "That has been taught\n",
      "One alone I've gone alone\n",
      "They were the day I'm alone\n",
      "The dead\n",
      "There is too far from my world\n",
      "\n",
      "And all the dead\n",
      "I am alone you are not\n",
      "\n",
      "My only thoughts\n",
      "Alone alone\n",
      "\n",
      "I am not alone,\n",
      "They came away alone\n",
      "And in the last\n",
      "Love I'm alone, and\n",
      "For my eyes' tears' wake you're only\n",
      "I am alone, and I could not\n",
      "I am alone. I knowMy soul's time. I do not leave\n",
      "\n",
      "All alone\n",
      " I cannot believe in\n",
      "We can't say\n",
      " I'm wrong.\n",
      " I am alone and I can't\n",
      " we can't sit\n",
      "\n",
      "And I've not alone\n",
      ",\n",
      " I have the word, who have gone alone\n",
      " I can't have\n",
      "\n",
      "To take me alone\n",
      " I am alone;\n",
      ", I am alone, you have to listen\n",
      "And I am alone\n",
      "\n",
      "And my heart, you must know. I cannot drink,I fear you are\n",
      "And I will never do\n",
      "As you cannot keep out.\n",
      "I have become alone. I want a dark world\n",
      " I love I have no fear;I have gone alone, I've gone alone,\n",
      "I can be alone; my heart alone. I've gone away\n",
      "\n",
      "\n",
      "\n",
      "2: . I love, I can't get my finger. I can't get my fingerButI'm just too many.\n",
      "He can't see my smile\n",
      "That is so much like a treeIn fear of youThe little boyYou can't see I was born alone.\n",
      "That time I don't askfor no money, you can't say\n",
      "He's no good,\n",
      "Then I'm too much to believe,\n",
      ".\n",
      "But I think you could see my mind\n",
      "And I don't find myself\n",
      "\n",
      "That can't make me feel\n",
      "\n",
      " I feel\n",
      "\n",
      "and I'm not alone\n",
      "\n",
      ".\n",
      "He's alone in my\n",
      "But I don't stay alone.\n",
      "And I don't leave me.\n",
      "It's alone in your home.\n",
      "But we could stay alone\n",
      ",\n",
      "You're alone with them alone,\n",
      "And you're alone\n",
      "A look that you cannot wait for me alone.\n",
      "He've been trapped\n",
      "He can't leave you alone.\n",
      "I'll speak for the last\n",
      " I have a thousand tears\n",
      "And I don't go alone,\n",
      "It I've come up\n",
      "\n",
      "And I can't stopI am alone\n",
      "No\n",
      "That I've not been alone\n",
      "But I will stay\n",
      "And I alone.\n",
      " I have to be alone in one side;\n",
      " I am alone in this world.\n",
      "He can't say so much;\n",
      "But I do not fall at you, alone in one\n",
      "Alone alone;\n",
      "\n",
      "\n"
     ]
    }
   ],
   "source": [
    "model.eval()\n",
    "\n",
    "prompt = \"<|startoftext|>\"\n",
    "\n",
    "generated = torch.tensor(tokenizer.encode(prompt)).unsqueeze(0)\n",
    "generated = generated.to(device)\n",
    "\n",
    "sample_outputs = model.generate(\n",
    "                                generated, \n",
    "                                do_sample=True,   \n",
    "                                top_k=50, \n",
    "                                max_length = 300,\n",
    "                                top_p=0.95, \n",
    "                                num_return_sequences=3\n",
    "                                )\n",
    "\n",
    "for i, sample_output in enumerate(sample_outputs):\n",
    "  print(\"{}: {}\\n\\n\".format(i, tokenizer.decode(sample_output, skip_special_tokens=True)))"
   ]
  },
  {
   "cell_type": "markdown",
   "metadata": {},
   "source": [
    "### Saving and Loading Finetuned Model"
   ]
  },
  {
   "cell_type": "code",
   "execution_count": 19,
   "metadata": {},
   "outputs": [
    {
     "data": {
      "text/plain": [
       "('models/gpt2_tutorial/tokenizer_config.json',\n",
       " 'models/gpt2_tutorial/special_tokens_map.json',\n",
       " 'models/gpt2_tutorial/vocab.json',\n",
       " 'models/gpt2_tutorial/merges.txt',\n",
       " 'models/gpt2_tutorial/added_tokens.json')"
      ]
     },
     "execution_count": 19,
     "metadata": {},
     "output_type": "execute_result"
    }
   ],
   "source": [
    "output_dir = \"models/gpt2_tutorial/\"\n",
    "os.makedirs(output_dir, exist_ok=True)\n",
    "\n",
    "# Save generated poems\n",
    "# sample_outputs = model.generate(\n",
    "#                                 generated, \n",
    "#                                 do_sample=True,   \n",
    "#                                 top_k=50, \n",
    "#                                 max_length = 300,\n",
    "#                                 top_p=0.95, \n",
    "#                                 num_return_sequences=25\n",
    "#                                 )\n",
    "\n",
    "# with open(os.path.join(output_dir, 'generated_poems.txt'), \"w\") as outfile:\n",
    "#   for i, sample_output in enumerate(sample_outputs):\n",
    "#     outfile.write(tokenizer.decode(sample_output, skip_special_tokens=True)+\"\\n\\n\")\n",
    "\n",
    "# Save a trained model, configuration and tokenizer using `save_pretrained()`.\n",
    "# They can then be reloaded using `from_pretrained()`\n",
    "model_to_save = model.module if hasattr(model, 'module') else model\n",
    "model_to_save.save_pretrained(output_dir)\n",
    "tokenizer.save_pretrained(output_dir)\n",
    "\n",
    "# Good practice: save your training arguments together with the trained model\n",
    "# torch.save(training_stats, os.path.join(output_dir, 'training_args.bin'))"
   ]
  },
  {
   "cell_type": "code",
   "execution_count": 20,
   "metadata": {},
   "outputs": [
    {
     "name": "stderr",
     "output_type": "stream",
     "text": [
      "The attention mask and the pad token id were not set. As a consequence, you may observe unexpected behavior. Please pass your input's `attention_mask` to obtain reliable results.\n",
      "Setting `pad_token_id` to `eos_token_id`:50256 for open-end generation.\n"
     ]
    }
   ],
   "source": [
    "# Save generated poems\n",
    "sample_outputs = model.generate(\n",
    "                                generated, \n",
    "                                do_sample=True,   \n",
    "                                top_k=50, \n",
    "                                max_length = 300,\n",
    "                                top_p=0.95, \n",
    "                                num_return_sequences=25\n",
    "                                )\n",
    "\n",
    "with open(os.path.join(output_dir, 'generated_poems.txt'), \"w\") as outfile:\n",
    "  for i, sample_output in enumerate(sample_outputs):\n",
    "    outfile.write(tokenizer.decode(sample_output, skip_special_tokens=True)+\"\\n\\n\")"
   ]
  },
  {
   "cell_type": "code",
   "execution_count": 21,
   "metadata": {},
   "outputs": [
    {
     "name": "stderr",
     "output_type": "stream",
     "text": [
      "Special tokens have been added in the vocabulary, make sure the associated word embeddings are fine-tuned or trained.\n"
     ]
    },
    {
     "data": {
      "text/plain": [
       "GPT2LMHeadModel(\n",
       "  (transformer): GPT2Model(\n",
       "    (wte): Embedding(50259, 768)\n",
       "    (wpe): Embedding(1024, 768)\n",
       "    (drop): Dropout(p=0.1, inplace=False)\n",
       "    (h): ModuleList(\n",
       "      (0-11): 12 x GPT2Block(\n",
       "        (ln_1): LayerNorm((768,), eps=1e-05, elementwise_affine=True)\n",
       "        (attn): GPT2Attention(\n",
       "          (c_attn): Conv1D()\n",
       "          (c_proj): Conv1D()\n",
       "          (attn_dropout): Dropout(p=0.1, inplace=False)\n",
       "          (resid_dropout): Dropout(p=0.1, inplace=False)\n",
       "        )\n",
       "        (ln_2): LayerNorm((768,), eps=1e-05, elementwise_affine=True)\n",
       "        (mlp): GPT2MLP(\n",
       "          (c_fc): Conv1D()\n",
       "          (c_proj): Conv1D()\n",
       "          (act): NewGELUActivation()\n",
       "          (dropout): Dropout(p=0.1, inplace=False)\n",
       "        )\n",
       "      )\n",
       "    )\n",
       "    (ln_f): LayerNorm((768,), eps=1e-05, elementwise_affine=True)\n",
       "  )\n",
       "  (lm_head): Linear(in_features=768, out_features=50259, bias=False)\n",
       ")"
      ]
     },
     "execution_count": 21,
     "metadata": {},
     "output_type": "execute_result"
    }
   ],
   "source": [
    "# Loading saved model\n",
    "model_dir = output_dir\n",
    "\n",
    "model = GPT2LMHeadModel.from_pretrained(model_dir)\n",
    "tokenizer = GPT2Tokenizer.from_pretrained(model_dir)\n",
    "\n",
    "# model = GPT2LMHeadModel.from_pretrained(\"prajwalcr/poetry-joy_gpt2\")\n",
    "# tokenizer = GPT2Tokenizer.from_pretrained(\"prajwalcr/poetry-joy_gpt2\")\n",
    "model.to(device)"
   ]
  }
 ],
 "metadata": {
  "kernelspec": {
   "display_name": "nlp_venv",
   "language": "python",
   "name": "python3"
  },
  "language_info": {
   "codemirror_mode": {
    "name": "ipython",
    "version": 3
   },
   "file_extension": ".py",
   "mimetype": "text/x-python",
   "name": "python",
   "nbconvert_exporter": "python",
   "pygments_lexer": "ipython3",
   "version": "3.10.12"
  }
 },
 "nbformat": 4,
 "nbformat_minor": 2
}
