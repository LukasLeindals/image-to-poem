{
 "cells": [
  {
   "cell_type": "markdown",
   "metadata": {},
   "source": [
    "# Data exploration\n",
    "\n",
    "In this notebook we look at the data we are gonna use."
   ]
  },
  {
   "cell_type": "code",
   "execution_count": 1,
   "metadata": {},
   "outputs": [],
   "source": [
    "import json\n",
    "import os\n",
    "import random\n",
    "from image_to_poem.data.kaggle_poems import KagglePoems\n",
    "\n",
    "DATA_PATH = '../data/'"
   ]
  },
  {
   "cell_type": "markdown",
   "metadata": {},
   "source": [
    "## Kaggle poems\n",
    "\n",
    "The Kaggle poems consists of two sub data sets: \"topics\" and \"forms\". In topics the poems are sorted into folders depending on the topics they describe. In forms the poems are sorted into folders depending on the form they are written in. We will use the topics data set."
   ]
  },
  {
   "cell_type": "markdown",
   "metadata": {},
   "source": [
    "### Topics exploration\n",
    "\n",
    "Below we take a look at the available topics."
   ]
  },
  {
   "cell_type": "code",
   "execution_count": 2,
   "metadata": {},
   "outputs": [
    {
     "name": "stdout",
     "output_type": "stream",
     "text": [
      "There are 144 topics in the dataset.\n"
     ]
    }
   ],
   "source": [
    "topics = os.listdir(DATA_PATH+\"kaggle_poems/topics\")\n",
    "print(f\"There are {len(topics)} topics in the dataset.\")"
   ]
  },
  {
   "cell_type": "code",
   "execution_count": 3,
   "metadata": {},
   "outputs": [
    {
     "name": "stdout",
     "output_type": "stream",
     "text": [
      "Each topic has between 97 and 100 poems.\n"
     ]
    }
   ],
   "source": [
    "topic_counts = {}\n",
    "\n",
    "for topic in topics:\n",
    "    topic_counts[topic] = len(os.listdir(DATA_PATH+\"kaggle_poems/topics/\"+topic))\n",
    "\n",
    "print(f\"Each topic has between {min(topic_counts.values())} and {max(topic_counts.values())} poems.\")"
   ]
  },
  {
   "cell_type": "markdown",
   "metadata": {},
   "source": [
    "### Poems exploration"
   ]
  },
  {
   "cell_type": "code",
   "execution_count": 5,
   "metadata": {},
   "outputs": [
    {
     "name": "stderr",
     "output_type": "stream",
     "text": [
      "Reading poems:  20%|██        | 2876/14331 [00:00<00:01, 6876.31it/s]"
     ]
    },
    {
     "name": "stdout",
     "output_type": "stream",
     "text": [
      "Could not read ../data/kaggle_poems/topics/chicago/ChicagoPoemsOfComptonImNotTheLeastBitAfraidToTheThoughtOfChicagoIDrinkCoolAideOrLemonadeCosaNostraByThemICouldNeverDieTheFbiLikeStandingNextToAFlyPoembyJoshuaAaronGuillory.txt\n",
      "Could not read ../data/kaggle_poems/topics/chicago/ChicagoPoemsOfComptonImNotTheLeastBitAfraidToTheThoughtOfChicagoIDrinkKoolAidOrLemonadeCosaNostraByThemICouldNeverDieTheFbiLikeStandingNextToAFlyPoembyJoshuaAaronGuillory.txt\n"
     ]
    },
    {
     "name": "stderr",
     "output_type": "stream",
     "text": [
      "Reading poems:  71%|███████   | 10105/14331 [00:01<00:00, 6540.37it/s]"
     ]
    },
    {
     "name": "stdout",
     "output_type": "stream",
     "text": [
      "Could not read ../data/kaggle_poems/topics/racism/RacismPoemsTranslationOfRacismIsAroundMeEverywhereByFrancisDugganαªåαª«αª░αªÜαª░αª¬αª╢αª¢αº£αºƒαªåαª¢αª£αªñαª¼αªªαª¼αª╖αª«αª▓αª½αª░αª¿αª╕αª╕αªíαªùαª¿PoembyAlamSayed.txt\n"
     ]
    },
    {
     "name": "stderr",
     "output_type": "stream",
     "text": [
      "Reading poems: 100%|██████████| 14331/14331 [00:02<00:00, 6520.28it/s]\n"
     ]
    },
    {
     "data": {
      "text/plain": [
       "{'num_poems': 14331,\n",
       " 'num_words': 2631184,\n",
       " 'vocab_size': 174557,\n",
       " 'avg_poem_length': 183.60086525713487}"
      ]
     },
     "execution_count": 5,
     "metadata": {},
     "output_type": "execute_result"
    }
   ],
   "source": [
    "poems = KagglePoems(\"../data/kaggle_poems/\")\n",
    "poems.stats"
   ]
  },
  {
   "cell_type": "markdown",
   "metadata": {},
   "source": [
    "Let's take a look at some poems."
   ]
  },
  {
   "cell_type": "code",
   "execution_count": 6,
   "metadata": {},
   "outputs": [
    {
     "name": "stdout",
     "output_type": "stream",
     "text": [
      "File index: 8458\n",
      "Topic: music\n",
      "Title: Young Laughters And My Music\n",
      "Author: Augusta Davies Webster\n",
      "------------------------------------\n",
      "Young laughters, and my music! Aye till now\n",
      "The voice can reach no blending minors near;\n",
      "'Tis the bird's trill because the spring is here\n",
      "And spring means trilling on a blossomy bough;\n",
      "'Tis the spring joy that has no why or how,\n",
      "But sees the sun and hopes not nor can fear--\n",
      "Spring is so sweet and spring seems all the year.\n",
      "Dear voice, the first-come birds but trill as thou.\n",
      "Oh music of my heart, be thus for long:\n",
      "Too soon the spring bird learns the later song;\n",
      "Too soon a sadder sweetness slays content\n",
      "Too soon! There comes new light on onward day,\n",
      "There comes new perfume o'er a rosier way:\n",
      "Comes not again the young spring joy that went.\n"
     ]
    }
   ],
   "source": [
    "poems.get_example()"
   ]
  },
  {
   "cell_type": "markdown",
   "metadata": {},
   "source": [
    "### Poem stats"
   ]
  },
  {
   "cell_type": "code",
   "execution_count": 10,
   "metadata": {},
   "outputs": [
    {
     "name": "stderr",
     "output_type": "stream",
     "text": []
    },
    {
     "name": "stdout",
     "output_type": "stream",
     "text": [
      "Could not read ../data/kaggle_poems/topics/chicago/ChicagoPoemsOfComptonImNotTheLeastBitAfraidToTheThoughtOfChicagoIDrinkCoolAideOrLemonadeCosaNostraByThemICouldNeverDieTheFbiLikeStandingNextToAFlyPoembyJoshuaAaronGuillory.txt\n",
      "Could not read ../data/kaggle_poems/topics/chicago/ChicagoPoemsOfComptonImNotTheLeastBitAfraidToTheThoughtOfChicagoIDrinkKoolAidOrLemonadeCosaNostraByThemICouldNeverDieTheFbiLikeStandingNextToAFlyPoembyJoshuaAaronGuillory.txt\n"
     ]
    },
    {
     "name": "stderr",
     "output_type": "stream",
     "text": []
    },
    {
     "name": "stdout",
     "output_type": "stream",
     "text": [
      "Could not read ../data/kaggle_poems/topics/racism/RacismPoemsTranslationOfRacismIsAroundMeEverywhereByFrancisDugganαªåαª«αª░αªÜαª░αª¬αª╢αª¢αº£αºƒαªåαª¢αª£αªñαª¼αªªαª¼αª╖αª«αª▓αª½αª░αª¿αª╕αª╕αªíαªùαª¿PoembyAlamSayed.txt\n"
     ]
    },
    {
     "name": "stderr",
     "output_type": "stream",
     "text": [
      "Reading poems: 100%|██████████| 14331/14331 [00:02<00:00, 6250.58it/s]\n"
     ]
    },
    {
     "name": "stdout",
     "output_type": "stream",
     "text": [
      "Topic: river\n",
      "Title: River Mates\n",
      "Author: Padraic Colum\n",
      "---------------------\n",
      "I’LL be an otter, and I’ll let you swim\n",
      "A mate beside me; we will venture down\n",
      "A deep, dark river, when the sky above\n",
      "Is shut of the sun; spoilers are we,\n",
      "Thick-coated; no dog’s tooth can bite at our veins\n",
      "With eyes and ears of poachers; deep-earthed ones\n",
      "Turned hunters; let him slip past\n",
      "The little vole; my teeth are on an edge\n",
      "For the King-fish of the River!\n",
      "I hold him up\n",
      "The glittering salmon that smells of the sea;\n",
      "I hold him high and whistle!\n",
      "Now we go\n",
      "Back to our earths; we will tear and eat\n",
      "Sea-smelling salmon; you will tell the cubs\n",
      "I am the Booty-bringer, I am the Lord\n",
      "Of the River; the deep, dark, full and flowing River.\n"
     ]
    }
   ],
   "source": [
    "# poems = [read_poem(path) for path in paths]\n",
    "# print(f\"Number of poems: {len(poems)}\")\n",
    "\n",
    "\n",
    "poems.get_example()"
   ]
  },
  {
   "cell_type": "code",
   "execution_count": 7,
   "metadata": {},
   "outputs": [
    {
     "data": {
      "text/plain": [
       "{'num_poems': 14331,\n",
       " 'num_words': 2631184,\n",
       " 'vocab_size': 174557,\n",
       " 'avg_poem_length': 183.60086525713487}"
      ]
     },
     "execution_count": 7,
     "metadata": {},
     "output_type": "execute_result"
    }
   ],
   "source": [
    "poems.stats"
   ]
  },
  {
   "cell_type": "code",
   "execution_count": 15,
   "metadata": {},
   "outputs": [
    {
     "data": {
      "text/plain": [
       "'data/kaggle_poems/topics/work/WorkPoemsA37SheWasGivenLightWorkPoembyRajaramRamachandran.txt'"
      ]
     },
     "execution_count": 15,
     "metadata": {},
     "output_type": "execute_result"
    }
   ],
   "source": [
    "p = \"data/kaggle_poems/topics\\work\\\\WorkPoemsA37SheWasGivenLightWorkPoembyRajaramRamachandran.txt\"\n",
    "p.replace(\"\\\\\", \"/\")"
   ]
  },
  {
   "cell_type": "markdown",
   "metadata": {},
   "source": [
    "## MultiM poem images"
   ]
  },
  {
   "cell_type": "code",
   "execution_count": 6,
   "metadata": {},
   "outputs": [
    {
     "name": "stdout",
     "output_type": "stream",
     "text": [
      "Example entry:  {'id': 0, 'image_url': 'https://farm2.staticflickr.com/1086/1002051357_0e9162423e.jpg', 'poem': 'what is lovely never dies\\nbut passes into other loveliness\\nstar-dust or sea-foam flower or winged air'}\n"
     ]
    }
   ],
   "source": [
    "image_json = json.load(open(DATA_PATH + \"multim_poem.json\"))\n",
    "print(\"Example entry: \", image_json[0])"
   ]
  },
  {
   "cell_type": "markdown",
   "metadata": {},
   "source": []
  }
 ],
 "metadata": {
  "kernelspec": {
   "display_name": "nlp_venv",
   "language": "python",
   "name": "python3"
  },
  "language_info": {
   "codemirror_mode": {
    "name": "ipython",
    "version": 3
   },
   "file_extension": ".py",
   "mimetype": "text/x-python",
   "name": "python",
   "nbconvert_exporter": "python",
   "pygments_lexer": "ipython3",
   "version": "3.10.12"
  }
 },
 "nbformat": 4,
 "nbformat_minor": 2
}
